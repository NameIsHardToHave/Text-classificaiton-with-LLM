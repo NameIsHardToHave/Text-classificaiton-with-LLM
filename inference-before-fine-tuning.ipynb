{
 "cells": [
  {
   "attachments": {},
   "cell_type": "markdown",
   "metadata": {},
   "source": [
    "一、导入相关包"
   ]
  },
  {
   "cell_type": "code",
   "execution_count": 1,
   "metadata": {},
   "outputs": [],
   "source": [
    "from vllm import LLM, SamplingParams\n",
    "from datasets import Dataset\n",
    "from typing import Dict\n",
    "import warnings\n",
    "import random\n",
    "import pandas as pd\n",
    "import torch\n",
    "from tqdm import tqdm\n",
    "\n",
    "pd.set_option('future.no_silent_downcasting', True)"
   ]
  },
  {
   "attachments": {},
   "cell_type": "markdown",
   "metadata": {},
   "source": [
    "二、加载数据集"
   ]
  },
  {
   "cell_type": "code",
   "execution_count": 2,
   "metadata": {},
   "outputs": [
    {
     "name": "stderr",
     "output_type": "stream",
     "text": [
      "100%|██████████| 350443/350443 [00:00<00:00, 829800.88it/s]\n",
      "100%|██████████| 400000/400000 [00:00<00:00, 1041851.50it/s]\n"
     ]
    },
    {
     "data": {
      "text/html": [
       "<div>\n",
       "<style scoped>\n",
       "    .dataframe tbody tr th:only-of-type {\n",
       "        vertical-align: middle;\n",
       "    }\n",
       "\n",
       "    .dataframe tbody tr th {\n",
       "        vertical-align: top;\n",
       "    }\n",
       "\n",
       "    .dataframe thead th {\n",
       "        text-align: right;\n",
       "    }\n",
       "</style>\n",
       "<table border=\"1\" class=\"dataframe\">\n",
       "  <thead>\n",
       "    <tr style=\"text-align: right;\">\n",
       "      <th></th>\n",
       "      <th>Label</th>\n",
       "      <th>Review</th>\n",
       "    </tr>\n",
       "  </thead>\n",
       "  <tbody>\n",
       "    <tr>\n",
       "      <th>0</th>\n",
       "      <td>2</td>\n",
       "      <td>Stuning even for the non-gamer: This sound tra...</td>\n",
       "    </tr>\n",
       "    <tr>\n",
       "      <th>1</th>\n",
       "      <td>2</td>\n",
       "      <td>The best soundtrack ever to anything.: I'm rea...</td>\n",
       "    </tr>\n",
       "    <tr>\n",
       "      <th>2</th>\n",
       "      <td>2</td>\n",
       "      <td>Amazing!: This soundtrack is my favorite music...</td>\n",
       "    </tr>\n",
       "    <tr>\n",
       "      <th>3</th>\n",
       "      <td>2</td>\n",
       "      <td>Excellent Soundtrack: I truly like this soundt...</td>\n",
       "    </tr>\n",
       "    <tr>\n",
       "      <th>4</th>\n",
       "      <td>2</td>\n",
       "      <td>Remember, Pull Your Jaw Off The Floor After He...</td>\n",
       "    </tr>\n",
       "    <tr>\n",
       "      <th>...</th>\n",
       "      <td>...</td>\n",
       "      <td>...</td>\n",
       "    </tr>\n",
       "    <tr>\n",
       "      <th>350438</th>\n",
       "      <td>1</td>\n",
       "      <td>Oracle SQL needs Help: This book waltzes throu...</td>\n",
       "    </tr>\n",
       "    <tr>\n",
       "      <th>350439</th>\n",
       "      <td>1</td>\n",
       "      <td>Unusual writing style: This book chronicles th...</td>\n",
       "    </tr>\n",
       "    <tr>\n",
       "      <th>350440</th>\n",
       "      <td>1</td>\n",
       "      <td>Junk.: They didn't give \"no stars\" as an optio...</td>\n",
       "    </tr>\n",
       "    <tr>\n",
       "      <th>350441</th>\n",
       "      <td>1</td>\n",
       "      <td>WORTHLESS!!!: This book only presents a sequen...</td>\n",
       "    </tr>\n",
       "    <tr>\n",
       "      <th>350442</th>\n",
       "      <td>1</td>\n",
       "      <td>Extremely Basic: I thought this book would hav...</td>\n",
       "    </tr>\n",
       "  </tbody>\n",
       "</table>\n",
       "<p>350443 rows × 2 columns</p>\n",
       "</div>"
      ],
      "text/plain": [
       "       Label                                             Review\n",
       "0          2  Stuning even for the non-gamer: This sound tra...\n",
       "1          2  The best soundtrack ever to anything.: I'm rea...\n",
       "2          2  Amazing!: This soundtrack is my favorite music...\n",
       "3          2  Excellent Soundtrack: I truly like this soundt...\n",
       "4          2  Remember, Pull Your Jaw Off The Floor After He...\n",
       "...      ...                                                ...\n",
       "350438     1  Oracle SQL needs Help: This book waltzes throu...\n",
       "350439     1  Unusual writing style: This book chronicles th...\n",
       "350440     1  Junk.: They didn't give \"no stars\" as an optio...\n",
       "350441     1  WORTHLESS!!!: This book only presents a sequen...\n",
       "350442     1  Extremely Basic: I thought this book would hav...\n",
       "\n",
       "[350443 rows x 2 columns]"
      ]
     },
     "execution_count": 2,
     "metadata": {},
     "output_type": "execute_result"
    }
   ],
   "source": [
    "# 读取文件\n",
    "train_path = '../data/train.ft.txt'\n",
    "test_path = '../data/test.ft.txt'\n",
    "\n",
    "def read_review(path: str) -> pd.DataFrame:\n",
    "    # 定义一个空列表来存储标签和评论\n",
    "    reviews_list = []\n",
    "    # 打开并读取文件内容\n",
    "    with open(path, 'r') as file:\n",
    "        lines = file.readlines()\n",
    "        for line in tqdm(lines):\n",
    "            # 分割标签和评论\n",
    "            label, review = line.strip().split(' ', 1)\n",
    "            reviews_list.append((label, review))\n",
    "    # 将列表转换为DataFrame\n",
    "    df = pd.DataFrame(reviews_list, columns=['Label', 'Review'])\n",
    "    # 更换label的类型\n",
    "    df['Label'] = df['Label'].replace({'__label__1': '1', '__label__2': '2'})\n",
    "    return df\n",
    "\n",
    "train_df = read_review(train_path)\n",
    "test_df = read_review(test_path)\n",
    "train_df"
   ]
  },
  {
   "cell_type": "code",
   "execution_count": 3,
   "metadata": {},
   "outputs": [
    {
     "data": {
      "text/plain": [
       "Dataset({\n",
       "    features: ['Label', 'Review'],\n",
       "    num_rows: 350443\n",
       "})"
      ]
     },
     "execution_count": 3,
     "metadata": {},
     "output_type": "execute_result"
    }
   ],
   "source": [
    "# 文件转换\n",
    "train_ds = Dataset.from_pandas(train_df)\n",
    "test_ds = Dataset.from_pandas(test_df)\n",
    "\n",
    "nums = 10000\n",
    "mini_test_ds = Dataset.from_pandas(test_df.iloc[:nums, :])\n",
    "\n",
    "train_ds"
   ]
  },
  {
   "attachments": {},
   "cell_type": "markdown",
   "metadata": {},
   "source": [
    "三、数据集预处理（加入prompt）"
   ]
  },
  {
   "cell_type": "code",
   "execution_count": 4,
   "metadata": {},
   "outputs": [],
   "source": [
    "def get_prompt(origin: Dict[str, str], train_ds: Dataset, max_length: int=1024, shot_num: int=3):\n",
    "    # 随机筛选上下文示例\n",
    "    shot_list = random.choices(train_ds, k=shot_num)\n",
    "    # 根据上下文示例生成输入模板\n",
    "    input_content = \"Please classify the following text into Label 1 or Label 2. \" + \\\n",
    "                \"And 2 represents positive emotions and 1 represents negative emotions. \\n\"\n",
    "    for shot in shot_list:\n",
    "        input_content += \"\\n    Text: \"\n",
    "        input_content += shot['Review']\n",
    "        input_content += \"\\n    Label: \"\n",
    "        input_content += shot['Label']\n",
    "        input_content += \"\\n\"\n",
    "    input_content += \"\\n    Text: \"\n",
    "    input_content += origin['Review']\n",
    "    input_content += \"\\n    Label: \"\n",
    "    if len(input_content) > max_length:\n",
    "        warnings.warn('Got too long prompt!')\n",
    "    return {\n",
    "        \"prompt\": input_content,\n",
    "        \"label\": origin['Label'],\n",
    "    }"
   ]
  },
  {
   "cell_type": "code",
   "execution_count": 5,
   "metadata": {},
   "outputs": [
    {
     "data": {
      "application/vnd.jupyter.widget-view+json": {
       "model_id": "8d831e9043634972be877c7bf0e6d515",
       "version_major": 2,
       "version_minor": 0
      },
      "text/plain": [
       "Map:   0%|          | 0/10000 [00:00<?, ? examples/s]"
      ]
     },
     "metadata": {},
     "output_type": "display_data"
    },
    {
     "name": "stderr",
     "output_type": "stream",
     "text": [
      "/tmp/ipykernel_6727/1396169083.py:17: UserWarning: Got too long prompt!\n",
      "  warnings.warn('Got too long prompt!')\n"
     ]
    }
   ],
   "source": [
    "# 固定随机数种子\n",
    "random.seed(42)\n",
    "\n",
    "test_prompt = mini_test_ds.map(get_prompt, remove_columns=mini_test_ds.column_names, \n",
    "                               fn_kwargs={'train_ds': train_ds})"
   ]
  },
  {
   "cell_type": "code",
   "execution_count": 6,
   "metadata": {},
   "outputs": [],
   "source": [
    "# 生成数据集\n",
    "prompts = test_prompt[:]['prompt']"
   ]
  },
  {
   "attachments": {},
   "cell_type": "markdown",
   "metadata": {},
   "source": [
    "四、加载模型，利用vllm加速推理"
   ]
  },
  {
   "cell_type": "code",
   "execution_count": 7,
   "metadata": {},
   "outputs": [
    {
     "name": "stdout",
     "output_type": "stream",
     "text": [
      "INFO 06-05 18:27:29 llm_engine.py:75] Initializing an LLM engine (v0.4.0) with config: model='../model/LLM-Research/Meta-Llama-3-8B', tokenizer='../model/LLM-Research/Meta-Llama-3-8B', tokenizer_mode=auto, revision=None, tokenizer_revision=None, trust_remote_code=False, dtype=torch.bfloat16, max_seq_len=8192, download_dir=None, load_format=auto, tensor_parallel_size=1, disable_custom_all_reduce=True, quantization=None, enforce_eager=False, kv_cache_dtype=auto, device_config=cuda, seed=0)\n"
     ]
    },
    {
     "name": "stderr",
     "output_type": "stream",
     "text": [
      "Special tokens have been added in the vocabulary, make sure the associated word embeddings are fine-tuned or trained.\n"
     ]
    },
    {
     "name": "stdout",
     "output_type": "stream",
     "text": [
      "INFO 06-05 18:27:29 selector.py:16] Using FlashAttention backend.\n",
      "INFO 06-05 18:27:36 model_runner.py:104] Loading model weights took 14.9595 GB\n",
      "INFO 06-05 18:27:37 gpu_executor.py:94] # GPU blocks: 2316, # CPU blocks: 2048\n",
      "INFO 06-05 18:27:39 model_runner.py:791] Capturing the model for CUDA graphs. This may lead to unexpected consequences if the model is not static. To run the model in eager mode, set 'enforce_eager=True' or use '--enforce-eager' in the CLI.\n",
      "INFO 06-05 18:27:39 model_runner.py:795] CUDA graphs can take additional 1~3 GiB memory per GPU. If you are running out of memory, consider decreasing `gpu_memory_utilization` or enforcing eager mode. You can also reduce the `max_num_seqs` as needed to decrease memory usage.\n",
      "INFO 06-05 18:27:43 model_runner.py:867] Graph capturing finished in 4 secs.\n"
     ]
    }
   ],
   "source": [
    "path = '../model/LLM-Research/Meta-Llama-3-8B'\n",
    "\n",
    "# sampling_params = SamplingParams(temperature=0.5, top_p=0.95)\n",
    "sampling_params = SamplingParams(temperature=0, max_tokens=128) # 贪婪采样\n",
    "llm = LLM(model=path, tokenizer=path)"
   ]
  },
  {
   "cell_type": "code",
   "execution_count": 8,
   "metadata": {},
   "outputs": [
    {
     "name": "stderr",
     "output_type": "stream",
     "text": [
      "Processed prompts: 100%|██████████| 10000/10000 [19:27<00:00,  8.57it/s]\n"
     ]
    }
   ],
   "source": [
    "outputs = llm.generate(prompts, sampling_params)"
   ]
  },
  {
   "attachments": {},
   "cell_type": "markdown",
   "metadata": {},
   "source": [
    "五、结果评估"
   ]
  },
  {
   "cell_type": "code",
   "execution_count": 9,
   "metadata": {},
   "outputs": [
    {
     "name": "stdout",
     "output_type": "stream",
     "text": [
      "准确率: 94.11%\n",
      "非正确格式的输出数: 0\n",
      "完全正确格式的输出数: 0\n"
     ]
    }
   ],
   "source": [
    "# 统计准确率\n",
    "acc_num = 0\n",
    "bad_num = 0\n",
    "bad_output = []\n",
    "perfect_num = 0\n",
    "\n",
    "for output, actual in zip(outputs, test_prompt[:nums]['label']):\n",
    "    # prompt = output.prompt\n",
    "    generated_text = output.outputs[0].text\n",
    "    if generated_text[0] == actual:\n",
    "        acc_num += 1\n",
    "    if generated_text[0] not in ['1', '2']:\n",
    "        bad_num += 1\n",
    "        bad_output.append(output)\n",
    "    if generated_text in ['1', '2']:\n",
    "        perfect_num += 1\n",
    "\n",
    "print(f\"准确率: {acc_num / nums:.2%}\")\n",
    "print(f\"非正确格式的输出数: {bad_num}\")\n",
    "print(f\"完全正确格式的输出数: {perfect_num}\")"
   ]
  }
 ],
 "metadata": {
  "kernelspec": {
   "display_name": "Python 3",
   "language": "python",
   "name": "python3"
  },
  "language_info": {
   "codemirror_mode": {
    "name": "ipython",
    "version": 3
   },
   "file_extension": ".py",
   "mimetype": "text/x-python",
   "name": "python",
   "nbconvert_exporter": "python",
   "pygments_lexer": "ipython3",
   "version": "3.9.7 (tags/v3.9.7:1016ef3, Aug 30 2021, 20:19:38) [MSC v.1929 64 bit (AMD64)]"
  },
  "orig_nbformat": 4,
  "vscode": {
   "interpreter": {
    "hash": "abe97b4297a04eb9b59942013a51b5b6b6dd824dcfaba919a0d03fdddda38a68"
   }
  }
 },
 "nbformat": 4,
 "nbformat_minor": 2
}
